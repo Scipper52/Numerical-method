{
 "cells": [
  {
   "cell_type": "markdown",
   "metadata": {},
   "source": [
    "# <center>Задача Коши</center>\n",
    "### Задание: <br />\n",
    "\n",
    "   <big> решить методом Тейлора 4-го порядка задачу Коши\n",
    "   <br /> \n",
    "   <br /> \n",
    "   <center> $9y''+18y'+27y=exp(-3x), \\ y(0)=1, y'(0)=0, \\ x\\in [0,2]$</center> \n",
    "   <br /> \n",
    "   с заданной относительной точностью 0.01. \n",
    "   <br>Найденное решение сравнить с решением по методу Рунге-Кутты кратности 4-5 (использовать стандартную программу из библиотек), а также точным решением. Результаты решения представить в виде фазовых траекторий.\n",
    "</big>\n"
   ]
  },
  {
   "cell_type": "markdown",
   "metadata": {},
   "source": [
    "<big>Перейдем к системе:\n",
    "<center>$\\begin{cases}{y''(x)=\\frac{(exp(-3x)-18y'(x)-27y(x))}{9}  \\\\}{y(x)=y_1(x) \\\\}{y'(x)=y_2(x) \\\\}{y''(x)=y'_2(x)}\\end{cases}$ </center>\n",
    "    \n",
    "    <br />\n",
    "    <br />Получим: \n",
    "    <center>$y'_2(x)=\\frac{(exp(-3x)-18y_2(x)-27y_1(x))}{9}$</center>\n",
    "</big>"
   ]
  },
  {
   "cell_type": "markdown",
   "metadata": {},
   "source": [
    "<big>**Метод разложения в ряд Тейлора**\n",
    "    <br>\n",
    "    Простейшим способом построения приближенного решения в точке $x_{n+1}$ сетки $\\omega_N$ является способ, основанный на разложении решения в ряд Тейлора в предыдущей точке сетки $x_n$ по степеням шага $h$:\n",
    "<br />\n",
    "    <center> $y(x_{n+1})=y(x_n)+h\\bigtriangleup(x_n,y_n,h)$,   (2)</center> \n",
    "    <br>\n",
    "    <center>$\\bigtriangleup(x_n,y_n,h)\\equiv y'(x)+\\frac{h}{2!}y''(x)+\\frac{h^2}{3!}y'''(x)+...$</center>\n",
    "    <br />\n",
    "    Взяв вместо этого ряда конечный его отрезок\n",
    "    <br />\n",
    "    <center>$\\varphi_p(x,y,h)\\equiv y'(x)+\\frac{h}{2!}y''(x)+...+\\frac{h^{p-1}}{p!}y^{(p)}(x)$</center>\n",
    "    <br />\n",
    "    И заменяя в нём производные $y^{(k)}(x)$ в силу дифференциального уравнения.\n",
    "    <br />\n",
    "    <br />\n",
    "    <center>$y'(x)=f(x,y(x)),$</center>\n",
    "    <center>$y''(x)=\\frac{d}{dx}f(x,y(x))=f'_x+f'_yf,$</center>\n",
    "    <center>$y'''(x)=\\frac{d}{dx}(f'_x+f'_yf)=f''_{xx}+f'_xf'_y+((f'_y)^2+2f''_{xy})f+f''_{yy}f^2,...,$</center>\n",
    "    <br />\n",
    "    получаем последовательность приближений\n",
    "    <br />\n",
    "    <center>$y_{n+1}=y_n+h\\varphi_p(x_n,y_n,h), \\ n=0,1,2,...$   (3)</center>\n",
    "    <br />\n",
    "    Отсюда, в частности, при $p=1$ получаем схему \n",
    "    <br />\n",
    "    <center>$\\begin{cases}{y_{n+1}=y_n+hf(x_n,y_n)  \\\\}{y_0=y^0, \\ n=\\bar{0,N-1}, \\ x_n\\in \\omega_N,}\\end{cases}$ (4) </center>\n",
    "    \n",
    "<br /> \n",
    "    <br /> (*метод Эйлера*), а при $p=2$ - схему\n",
    "    <br />\n",
    "    <center>$\\begin{cases}{y_{n+1}=y_n+h[f(x_n,y_n)+\\frac{h}{2}(f_x(x_n,y_n)+f_y(x_n,y_n)f(x_n,y_n)]  \\\\}{y_0=y^0, \\ n=\\bar{0,N-1}, \\ x_n\\in \\omega_N,}\\end{cases}$ (4)</center>\n",
    "    \n",
    "    <br /> Алгоритмы типа (3) не требуют вычисления дополнительных начальных условий и позволяют легко менять шаг интегрирования. Применимость данных методов ограничена теми задачами, для которых легко вычисляются частные производные высоких порядков функции  $f(x,y)$.\n",
    "    \n",
    "\n",
    "</big>"
   ]
  },
  {
   "cell_type": "code",
   "execution_count": null,
   "metadata": {},
   "outputs": [],
   "source": [
    "y1=1\n",
    "y2=0\n",
    "x=0\n",
    "i=1\n",
    "j=0\n",
    "d1=0\n",
    "d2=0\n",
    "g(x,y1,y2) = (exp.(-3x) - 18*y2 - 27*y1)/9\n",
    "f(y2)=y2\n",
    "gx(x)= -exp.(-3*x)/3\n",
    "gxx(x) = exp(-3*x)\n",
    "gxxx(x) = -3*exp(-3*x)\n",
    "gxy1(x,y1) =0\n",
    "gxy2(x,y2) =0\n",
    "gy1y1(y1) =0\n",
    "gy2y2(y2) =0\n",
    "gy1(y1) =-3\n",
    "gy2(y2) =-2\n",
    "gy1y2(y1,y2) =0\n",
    "\n",
    "h=0.05\n",
    "E=0.01\n",
    "norm_y1=1\n",
    "dl= Int64(2/h+1)\n",
    "mass_x=[]\n",
    "mass_y1=[]\n",
    "mass_y11=[]\n",
    "\n",
    "for x=0:h:2\n",
    "    push!(mass_y1,y1)\n",
    "    push!(mass_x,x)\n",
    "    d1 = f(y2)+h*0.5*f(y2)*g(x,y1,y2) + h^2/6*(gx(x) - 3*f(y2) -2) +h^3*(gxx(x)+ g(x,y1,y2)*gy1(y1) - 2*(gx(x) - 3*f(y2) -2))/24\n",
    "    d2 = g(x,y1,y2) + h*0.5*(gx(x) - 3*f(y2) -2) + (h^2)*(gxx(x)+ g(x,y1,y2)*gy1(y1) - 2*(gx(x) - 3*f(y2) -2))/6 + h^3*(gxxx(x) + (gxx(x)+ g(x,y1,y2)*gy1(y1) - 2*(gx(x) - 3*f(y2) -2))*gy2(y2) )/24\n",
    "    y1=y1+h*d1\n",
    "    y2=y2+h*d2\n",
    "    \n",
    "end\n",
    "\n",
    "for k=1:length(mass_y1)\n",
    "    push!(mass_y11,mass_y1[k])\n",
    "end\n",
    "\n",
    "while(norm_y1>E&&j<20)\n",
    "    h=h/2\n",
    "    mass_y1=[]\n",
    "    mass_x=[]\n",
    "    y1=1\n",
    "    y2=0\n",
    "    x=0\n",
    "    d1=0\n",
    "    d2=0\n",
    "    norm_y1=1\n",
    "    \n",
    "    for x=0:h:2\n",
    "        push!(mass_y1,y1)\n",
    "        push!(mass_x,x)\n",
    "        d1 = f(y2)+h*0.5*f(y2)*g(x,y1,y2) + h^2/6*(gx(x) - 3*f(y2) -2) +h^3*(gxx(x)+ g(x,y1,y2)*gy1(y1) - 2*(gx(x) - 3*f(y2) -2))/24\n",
    "        d2 = g(x,y1,y2) + h*0.5*(gx(x) - 3*f(y2) -2) + (h^2)*(gxx(x)+ g(x,y1,y2)*gy1(y1) - 2*(gx(x) - 3*f(y2) -2))/6 + h^3*(gxxx(x) + (gxx(x)+ g(x,y1,y2)*gy1(y1) - 2*(gx(x) - 3*f(y2) -2))*gy2(y2) )/24\n",
    "        y1=y1+h*d1\n",
    "        y2=y2+h*d2\n",
    "        \n",
    "    end\n",
    "    \n",
    "    norm_y1=sqrt(sum((mass_y1[1:2:end]-mass_y11).^2))\n",
    "    mass_y11=[]\n",
    "    \n",
    "    for k=1:length(mass_y1)\n",
    "        push!(mass_y11,mass_y1[k])\n",
    "    end\n",
    "    \n",
    "    j+=1\n",
    "    println(norm_y1)\n",
    "end"
   ]
  },
  {
   "cell_type": "code",
   "execution_count": 2,
   "metadata": {},
   "outputs": [
    {
     "name": "stdout",
     "output_type": "stream",
     "text": [
      "шаг: 0.000390625, Итерации: 7\n"
     ]
    }
   ],
   "source": [
    "println(\"шаг: \",h,\", Итерации: \",j)"
   ]
  },
  {
   "cell_type": "code",
   "execution_count": 3,
   "metadata": {},
   "outputs": [],
   "source": [
    "mass_y2=[]\n",
    "i=1\n",
    "for xx=0:h:2\n",
    "    yy=(exp.(-2*xx)/54 + 53*cos(xx*sqrt(2))/54 + 14*sqrt(2)*sin(xx*sqrt(2))/27)*exp.(-xx)    \n",
    "    push!(mass_y2,yy)\n",
    "    i+=1\n",
    "end"
   ]
  },
  {
   "cell_type": "code",
   "execution_count": 4,
   "metadata": {},
   "outputs": [
    {
     "data": {
      "text/plain": [
       "0.011971517167897858"
      ]
     },
     "execution_count": 4,
     "metadata": {},
     "output_type": "execute_result"
    }
   ],
   "source": [
    "norm_y2=sqrt(sum((mass_y1-mass_y2).^2))"
   ]
  },
  {
   "cell_type": "code",
   "execution_count": 5,
   "metadata": {},
   "outputs": [],
   "source": [
    "y1=1 \n",
    "y2=0 \n",
    "mass_y3=[]  \n",
    "for x = 0:h:2\n",
    "k1 = h * g(x, y1, y2); \n",
    "q1 = h * f(y2); \n",
    "k2 = h * g(x + h/2.0, y1 + q1/2.0, y2 + k1/2.0) \n",
    "q2 = h * f(y2 + k1/2.0) \n",
    "k3 = h * g(x + h/2.0, y1 + q2/2.0, y2 + k2/2.0) \n",
    "q3 = h * f(y2 + k2/2.0) \n",
    "k4 = h * g(x + h, y1 + q3, y2 + k3) \n",
    "q4 = h * f(y2 + k3) \n",
    "y1 = y1 + (q1 + 2.0*q2 + 2.0*q3 + q4)/6.0 \n",
    "y2 = y2 + (k1 + 2.0*k2 + 2.0*k3 + k4)/6.0 \n",
    "push!(mass_y3,y1) \n",
    "end "
   ]
  },
  {
   "cell_type": "code",
   "execution_count": 6,
   "metadata": {},
   "outputs": [
    {
     "data": {
      "text/plain": [
       "0.018115509292814913"
      ]
     },
     "execution_count": 6,
     "metadata": {},
     "output_type": "execute_result"
    }
   ],
   "source": [
    "norm_y3=sqrt(sum((mass_y1-mass_y3).^2))"
   ]
  },
  {
   "cell_type": "code",
   "execution_count": 9,
   "metadata": {},
   "outputs": [
    {
     "data": {
      "image/png": "[encoded data removed]",
      "text/plain": [
       "PyPlot.Figure(PyObject <Figure size 640x480 with 1 Axes>)"
      ]
     },
     "metadata": {},
     "output_type": "display_data"
    },
    {
     "data": {
      "text/plain": [
       "PyObject Text(132.16,0.5,'y')"
      ]
     },
     "execution_count": 9,
     "metadata": {},
     "output_type": "execute_result"
    }
   ],
   "source": [
    "using PyPlot\n",
    "#plot(mass_x,mass_y3)\n",
    "plot(mass_x,mass_y2-mass_y1)\n",
    "#plot(mass_x,mass_y1)\n",
    "grid(\"on\")\n",
    "title(\"График разности точного решения и решения, полученного с помощью метода Тейлора 4-го порядка.\")\n",
    "xlabel(\"x\")\n",
    "ylabel(\"y\")"
   ]
  },
  {
   "cell_type": "markdown",
   "metadata": {},
   "source": [
    "## Вывод:\n",
    "<big> \n",
    "    Методом Тейлора 4-го порядка было получено решение за $7$ итераций с шагом $0.000390625$.  Оно совпало с теоретическим.\n",
    "</big>"
   ]
  }
 ],
 "metadata": {
  "kernelspec": {
   "display_name": "Julia 0.6.2",
   "language": "julia",
   "name": "julia-0.6"
  },
  "language_info": {
   "file_extension": ".jl",
   "mimetype": "application/julia",
   "name": "julia",
   "version": "0.6.2"
  }
 },
 "nbformat": 4,
 "nbformat_minor": 4
}
